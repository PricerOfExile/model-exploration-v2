{
 "cells": [
  {
   "cell_type": "code",
   "execution_count": 1,
   "id": "initial_id",
   "metadata": {
    "ExecuteTime": {
     "end_time": "2024-09-01T20:31:01.906389Z",
     "start_time": "2024-09-01T20:31:01.902886Z"
    },
    "collapsed": true
   },
   "outputs": [],
   "source": [
    "from dataclasses import dataclass\n",
    "import re\n",
    "from typing import Callable\n",
    "import os\n",
    "import json\n",
    "import numpy as np\n",
    "import pandas as pd\n",
    "\n",
    "\n",
    "SAMPLE_DIR = './sample/samples-1000'\n"
   ]
  },
  {
   "cell_type": "markdown",
   "id": "95ee3f690cdd8e2b",
   "metadata": {},
   "source": [
    "# Data transformation (temporary since it should be treated by another service)"
   ]
  },
  {
   "cell_type": "markdown",
   "id": "a52fc64fd66d2ac9",
   "metadata": {},
   "source": [
    "### Files without outliers (from data-exploration.ipynb)"
   ]
  },
  {
   "cell_type": "code",
   "execution_count": 2,
   "id": "d02aba936a91d9f9",
   "metadata": {
    "ExecuteTime": {
     "end_time": "2024-09-01T19:19:05.769448Z",
     "start_time": "2024-09-01T19:19:05.730943Z"
    }
   },
   "outputs": [],
   "source": [
    "@dataclass\n",
    "class PatternConverter:\n",
    "    pattern: re.Pattern\n",
    "    conversion_factor: Callable[[str], float]\n",
    "\n",
    "\n",
    "chaos_pattern = PatternConverter(re.compile(r'^~price \\d+ chaos$'), lambda s: int(s.split()[1]))\n",
    "bo_chaos_pattern = PatternConverter(re.compile(r'^~b/o \\d+ chaos$'), lambda s: int(s.split()[1]))\n",
    "divine_pattern = PatternConverter(re.compile(r'^~price \\d+ divine$'), lambda s: int(s.split()[1]) * 165)\n",
    "bo_divine_pattern = PatternConverter(re.compile(r'^~b/o \\d+ divine$'), lambda s: int(s.split()[1]) * 165)\n",
    "chaos_veiled_pattern = PatternConverter(re.compile(r'^~price \\d+ chaos veiled$'), lambda s: int(s.split()[1]) * 74.5)\n",
    "bo_chaos_veiled_pattern = PatternConverter(re.compile(r'^~b/o \\d+ chaos veiled$'), lambda s: int(s.split()[1]) * 74.5)\n",
    "\n",
    "def match_any_patten_and_convert(string: str) -> float | None:\n",
    "    for pattern in [chaos_pattern, bo_chaos_pattern, divine_pattern, bo_divine_pattern, chaos_veiled_pattern, bo_chaos_veiled_pattern]:\n",
    "        if pattern.pattern.match(string):\n",
    "            return pattern.conversion_factor(string)\n",
    "    return None"
   ]
  },
  {
   "cell_type": "code",
   "execution_count": 3,
   "id": "21406e0305e1bbf5",
   "metadata": {
    "ExecuteTime": {
     "end_time": "2024-09-01T20:03:55.529236Z",
     "start_time": "2024-09-01T20:03:55.432742Z"
    }
   },
   "outputs": [
    {
     "data": {
      "text/plain": [
       "[PriceWithFileName(name='f3861a3209a17af1e52e975fec04ab806f7ee7b549d62eb957d3663d9eb9692b.json', price_note='~b/o 4 chaos', price=4),\n",
       " PriceWithFileName(name='2980dc39bd25c9651fc3a89d43c07bedc158c8142e376ed2068aefde9800dce6.json', price_note='~price 4 chaos', price=4),\n",
       " PriceWithFileName(name='7c64b68cdf2d852beae8c519ce7f85f7a66c3b9a39590f2d2bc3a124d757981a.json', price_note='~price 50 chaos', price=50),\n",
       " PriceWithFileName(name='705122ad9a23ee31018f5992ab5407d9a6dbd8e7c3f1be28866c16f0036274b8.json', price_note='~b/o 58 chaos', price=58),\n",
       " PriceWithFileName(name='ede29fa2b5117c51ac1a8df3558001c966d2e3c2cb003867c277a804a084e6ca.json', price_note='~price 10 chaos', price=10),\n",
       " PriceWithFileName(name='ee791acb87c0a588decac34cefa0a75b97c680fe6944a0a3b8ee4fae3af8d726.json', price_note='~price 10 chaos', price=10),\n",
       " PriceWithFileName(name='e4a8d4df42a5ef6a4f3418249f373b2f9610a73ac316e7f85c63db382884b825.json', price_note='~price 9 chaos', price=9),\n",
       " PriceWithFileName(name='248c6ce8bc85b7278ec8c608d8be8474c166e5870182caeca4cc4377d0bd6346.json', price_note='~b/o 50 chaos', price=50),\n",
       " PriceWithFileName(name='2352dd2a14ce8993047cae2d8e53f7864df5ea312b5189b60b0778d986138227.json', price_note='~b/o 31 chaos', price=31),\n",
       " PriceWithFileName(name='7cc4a0e3cc35e174038ea8aa91ffd668ba43f7ce787d556e18d48083cf6e3260.json', price_note='~price 1 chaos', price=1),\n",
       " PriceWithFileName(name='884b56ed7b375e5b6245fcc9bb489cfd5f5744b274b862f021881ac2786d2012.json', price_note='~b/o 5 chaos', price=5),\n",
       " PriceWithFileName(name='5bc05e76ecc36910f49f0ef6486d9c6d11826d558b1c236addc4d273a0103a2b.json', price_note='~price 5 chaos', price=5),\n",
       " PriceWithFileName(name='5790950b6eb725c205ddd8dd7b0bce6bcb0c81dd399b112a050095f4d1537054.json', price_note='~price 2 chaos', price=2),\n",
       " PriceWithFileName(name='043bd937764fff5b96b6b2454b55f72c09ab313a1eaaf3a299d5a27380652f6b.json', price_note='~b/o 30 chaos', price=30),\n",
       " PriceWithFileName(name='8bef3cda6b6e042e380c81205226c963149e094559658f24bfd9735e37570784.json', price_note='~b/o 31 chaos', price=31),\n",
       " PriceWithFileName(name='2ab294a548524a290ae70fd36a58735e0f22264ce7ee75806a677379ed9e087d.json', price_note='~price 5 chaos', price=5),\n",
       " PriceWithFileName(name='476d67b3a3a08e9a7a364c9d7fc9e9f72aef217cabbc9f2cc12c1456f881f2b3.json', price_note='~price 3 chaos', price=3),\n",
       " PriceWithFileName(name='e185d389a8204c16e4aa54e5bdf09cc31cbd3abd19053249d81c0c47d85e68da.json', price_note='~price 20 chaos', price=20),\n",
       " PriceWithFileName(name='156a86f0dfc9025f2cea1413c34ca421221690cbf4545cd0fdb32bb0843bb70b.json', price_note='~price 10 chaos', price=10),\n",
       " PriceWithFileName(name='3f9f20dab03cbab9bba6a1752bc297f52bfb4235afa9827e5df97877fbd283d3.json', price_note='~price 2 chaos', price=2)]"
      ]
     },
     "execution_count": 3,
     "metadata": {},
     "output_type": "execute_result"
    }
   ],
   "source": [
    "@dataclass\n",
    "class PriceWithFileName:\n",
    "    name: str\n",
    "    price_note: str\n",
    "    price: float | None\n",
    "\n",
    "item_description = []\n",
    "for file in os.listdir(SAMPLE_DIR):\n",
    "    if file.endswith('.json'):\n",
    "        with open(os.path.join(SAMPLE_DIR, file)) as f:\n",
    "            data = json.load(f)\n",
    "            item_description.append(PriceWithFileName(file, data['note'], match_any_patten_and_convert(data['note'])))\n",
    "\n",
    "item_description_filtered_by_known_price = [item for item in item_description if item.price is not None]\n",
    "\n",
    "item_prices = np.array([item.price for item in item_description_filtered_by_known_price])\n",
    "\n",
    "quantile_1 = np.percentile(item_prices, 25)\n",
    "quantile_3 = np.percentile(item_prices, 75)\n",
    "\n",
    "inter_quantile_range = quantile_3 - quantile_1\n",
    "\n",
    "lower_bound = quantile_1 - 1.5 * inter_quantile_range\n",
    "upper_bound = quantile_3 + 1.5 * inter_quantile_range\n",
    "\n",
    "item_description_with_known_price_without_outlier = [\n",
    "    item\n",
    "    for item in item_description_filtered_by_known_price\n",
    "    if lower_bound <= item.price <= upper_bound\n",
    "]\n",
    "\n",
    "# printing first 20 elements to get what it looks like without polluting the output prompt\n",
    "item_description_with_known_price_without_outlier[:20]"
   ]
  },
  {
   "cell_type": "code",
   "execution_count": 4,
   "id": "98be7822678f02eb",
   "metadata": {
    "ExecuteTime": {
     "end_time": "2024-09-01T20:04:10.314386Z",
     "start_time": "2024-09-01T20:04:10.310807Z"
    }
   },
   "outputs": [
    {
     "data": {
      "text/plain": [
       "849"
      ]
     },
     "execution_count": 4,
     "metadata": {},
     "output_type": "execute_result"
    }
   ],
   "source": [
    "len(item_description_with_known_price_without_outlier)"
   ]
  },
  {
   "cell_type": "markdown",
   "id": "207b02a1ed0d6d3f",
   "metadata": {},
   "source": [
    "## Transforming json into list of integers"
   ]
  },
  {
   "cell_type": "code",
   "execution_count": 5,
   "id": "8b2720c5f8f68821",
   "metadata": {
    "ExecuteTime": {
     "end_time": "2024-09-01T20:29:43.523029Z",
     "start_time": "2024-09-01T20:29:43.472723Z"
    }
   },
   "outputs": [],
   "source": [
    "filtered_file_name = [item.name for item in item_description_with_known_price_without_outlier]\n",
    "\n",
    "items = []\n",
    "for file in filtered_file_name:\n",
    "    with open(os.path.join(SAMPLE_DIR, file)) as f:\n",
    "        data = json.load(f)\n",
    "        items.append(data)"
   ]
  },
  {
   "cell_type": "markdown",
   "id": "90b392721db8866",
   "metadata": {},
   "source": [
    "### rarity"
   ]
  },
  {
   "cell_type": "code",
   "execution_count": 6,
   "id": "1fdbe56cef0c9547",
   "metadata": {
    "ExecuteTime": {
     "end_time": "2024-09-01T20:36:13.705674Z",
     "start_time": "2024-09-01T20:36:13.699424Z"
    }
   },
   "outputs": [
    {
     "data": {
      "text/plain": [
       "{'Magic', 'Rare'}"
      ]
     },
     "execution_count": 6,
     "metadata": {},
     "output_type": "execute_result"
    }
   ],
   "source": [
    "rarities = [item[\"rarity\"] for item in items]\n",
    "uniq_rarities = set(rarities)\n",
    "uniq_rarities"
   ]
  },
  {
   "cell_type": "code",
   "execution_count": 7,
   "id": "2c1371922c3bf059",
   "metadata": {
    "ExecuteTime": {
     "end_time": "2024-09-01T20:36:38.131417Z",
     "start_time": "2024-09-01T20:36:38.125215Z"
    }
   },
   "outputs": [
    {
     "data": {
      "text/plain": [
       "Magic     18\n",
       "Rare     831\n",
       "Name: count, dtype: int64"
      ]
     },
     "execution_count": 7,
     "metadata": {},
     "output_type": "execute_result"
    }
   ],
   "source": [
    "rarity_distribution = pd.Series(rarities).value_counts().sort_index()\n",
    "rarity_distribution"
   ]
  },
  {
   "cell_type": "code",
   "execution_count": 8,
   "id": "39d4fdd8fa130813",
   "metadata": {
    "ExecuteTime": {
     "end_time": "2024-09-01T20:40:19.793795Z",
     "start_time": "2024-09-01T20:40:19.789978Z"
    }
   },
   "outputs": [],
   "source": [
    "def _infer_rarity(item: dict) -> list[int] | None:\n",
    "    if \"rarity\" not in item:\n",
    "        return None\n",
    "    match item[\"rarity\"]:\n",
    "        case \"Rare\":\n",
    "            return [1, 0]\n",
    "        case \"Magic\":\n",
    "            return [0, 1]\n",
    "        case _:\n",
    "            return None"
   ]
  },
  {
   "cell_type": "markdown",
   "id": "16f52b55b5fc4d47",
   "metadata": {},
   "source": [
    "### item level"
   ]
  },
  {
   "cell_type": "code",
   "execution_count": 13,
   "id": "cb0dd87c48502fbe",
   "metadata": {
    "ExecuteTime": {
     "end_time": "2024-09-01T20:51:05.087395Z",
     "start_time": "2024-09-01T20:51:05.081347Z"
    }
   },
   "outputs": [
    {
     "data": {
      "text/plain": [
       "{45,\n",
       " 46,\n",
       " 48,\n",
       " 49,\n",
       " 50,\n",
       " 51,\n",
       " 52,\n",
       " 53,\n",
       " 54,\n",
       " 55,\n",
       " 56,\n",
       " 57,\n",
       " 58,\n",
       " 59,\n",
       " 61,\n",
       " 62,\n",
       " 63,\n",
       " 64,\n",
       " 65,\n",
       " 66}"
      ]
     },
     "execution_count": 13,
     "metadata": {},
     "output_type": "execute_result"
    }
   ],
   "source": [
    "ilvls = [item[\"ilvl\"] for item in items]\n",
    "uniq_ilvls = set(ilvls)\n",
    "\n",
    "# printing first 20 elements to get what it looks like without polluting the output prompt\n",
    "set(list(uniq_ilvls)[:20])"
   ]
  },
  {
   "cell_type": "code",
   "execution_count": 12,
   "id": "bd70e3f31162ae25",
   "metadata": {
    "ExecuteTime": {
     "end_time": "2024-09-01T20:51:50.435136Z",
     "start_time": "2024-09-01T20:51:50.428Z"
    }
   },
   "outputs": [
    {
     "data": {
      "text/plain": [
       "45     6\n",
       "46     1\n",
       "48     1\n",
       "49     8\n",
       "50     3\n",
       "51     3\n",
       "52     1\n",
       "53     3\n",
       "54     4\n",
       "55     3\n",
       "56     5\n",
       "57     2\n",
       "58     2\n",
       "59     5\n",
       "61     3\n",
       "62     4\n",
       "63    10\n",
       "64     3\n",
       "65     9\n",
       "66     2\n",
       "Name: count, dtype: int64"
      ]
     },
     "execution_count": 12,
     "metadata": {},
     "output_type": "execute_result"
    }
   ],
   "source": [
    "ilvl_distribution = pd.Series(ilvls).value_counts().sort_index()\n",
    "\n",
    "# printing first 20 elements to get what it looks like without polluting the output prompt\n",
    "ilvl_distribution.head(20)"
   ]
  },
  {
   "cell_type": "code",
   "execution_count": 14,
   "id": "9ec7a5aa68b866c6",
   "metadata": {
    "ExecuteTime": {
     "end_time": "2024-09-01T20:53:17.728735Z",
     "start_time": "2024-09-01T20:53:17.722866Z"
    }
   },
   "outputs": [],
   "source": [
    "def _ilvl(item: dict) -> list[int] | None:\n",
    "    if \"ilvl\" not in item:\n",
    "        return None\n",
    "    return [item[\"ilvl\"]]"
   ]
  },
  {
   "cell_type": "markdown",
   "id": "48cd8ffa9bb79ecb",
   "metadata": {},
   "source": [
    "### mods"
   ]
  },
  {
   "cell_type": "code",
   "execution_count": 15,
   "id": "7d3be15ade0025ab",
   "metadata": {
    "ExecuteTime": {
     "end_time": "2024-09-01T21:07:23.611199Z",
     "start_time": "2024-09-01T21:07:23.500569Z"
    }
   },
   "outputs": [
    {
     "data": {
      "text/plain": [
       "[['+13 to all Attributes',\n",
       "  'Adds 8 to 13 Physical Damage to Attacks',\n",
       "  '+9% to Global Critical Strike Multiplier',\n",
       "  '+50 to maximum Mana',\n",
       "  '+8% to Lightning Resistance'],\n",
       " ['+17 to Armour',\n",
       "  '+43 to maximum Energy Shield',\n",
       "  '+9% to Cold Resistance',\n",
       "  '5% increased Flask Effect Duration'],\n",
       " ['Adds 1 to 2 Cold Damage to Attacks',\n",
       "  'Adds 1 to 14 Lightning Damage to Attacks',\n",
       "  '+91 to Evasion Rating'],\n",
       " ['+44 to Dexterity',\n",
       "  '+34 to Armour',\n",
       "  '+88 to maximum Life',\n",
       "  '+29% to Fire Resistance'],\n",
       " ['15% increased Global Accuracy Rating',\n",
       "  '+26 to maximum Life',\n",
       "  '+10% to all Elemental Resistances',\n",
       "  '+32% to Lightning Resistance',\n",
       "  '10% increased Light Radius']]"
      ]
     },
     "execution_count": 15,
     "metadata": {},
     "output_type": "execute_result"
    }
   ],
   "source": [
    "explicits_mods = [item_not_none for item in items if (item_not_none := item[\"explicitMods\"]) is not None]\n",
    "\n",
    "# printing first 5 elements to get what it looks like without polluting the output prompt\n",
    "explicits_mods[:5]"
   ]
  },
  {
   "cell_type": "code",
   "execution_count": 17,
   "id": "5babcb617f128d3c",
   "metadata": {
    "ExecuteTime": {
     "end_time": "2024-09-01T21:09:30.110093Z",
     "start_time": "2024-09-01T21:09:30.091670Z"
    }
   },
   "outputs": [
    {
     "data": {
      "text/plain": [
       "['+13 to all Attributes',\n",
       " 'Adds 8 to 13 Physical Damage to Attacks',\n",
       " '+9% to Global Critical Strike Multiplier',\n",
       " '+50 to maximum Mana',\n",
       " '+8% to Lightning Resistance',\n",
       " '+17 to Armour',\n",
       " '+43 to maximum Energy Shield',\n",
       " '+9% to Cold Resistance',\n",
       " '5% increased Flask Effect Duration',\n",
       " 'Adds 1 to 2 Cold Damage to Attacks']"
      ]
     },
     "execution_count": 17,
     "metadata": {},
     "output_type": "execute_result"
    }
   ],
   "source": [
    "flatten_explicit_mods = [mod for mods in explicits_mods for mod in mods]\n",
    "\n",
    "# printing first 10 elements to get what it looks like without polluting the output prompt\n",
    "flatten_explicit_mods[:10]"
   ]
  },
  {
   "cell_type": "code",
   "execution_count": 19,
   "id": "611426f4ce494dee",
   "metadata": {
    "ExecuteTime": {
     "end_time": "2024-09-01T21:17:42.193458Z",
     "start_time": "2024-09-01T21:17:42.176211Z"
    }
   },
   "outputs": [
    {
     "data": {
      "text/plain": [
       "+ to maximum Energy Shield                         261\n",
       "+ to maximum Mana                                  236\n",
       "+ to maximum Life                                  227\n",
       "+ to Strength                                      176\n",
       "+% to Cold Resistance                              164\n",
       "+% to Fire Resistance                              159\n",
       "Regenerate  Life per second                        153\n",
       "+% to Lightning Resistance                         149\n",
       "+ to Intelligence                                  131\n",
       "Adds  to  Physical Damage to Attacks               118\n",
       "+ to Dexterity                                     113\n",
       "% increased Rarity of Items found                   92\n",
       "+ to Evasion Rating                                 74\n",
       "+% to all Elemental Resistances                     73\n",
       "% increased Mana Regeneration Rate                  72\n",
       "Adds  to  Fire Damage to Attacks                    67\n",
       "Adds  to  Cold Damage to Attacks                    65\n",
       "+ to Accuracy Rating                                60\n",
       "Adds  to  Lightning Damage to Attacks               48\n",
       "% increased Elemental Damage with Attack Skills     45\n",
       "Name: count, dtype: int64"
      ]
     },
     "execution_count": 19,
     "metadata": {},
     "output_type": "execute_result"
    }
   ],
   "source": [
    "mod_without_numbers = [re.sub(r'\\d+(\\.\\d+)?', '', mod) for mod in flatten_explicit_mods]\n",
    "mod_without_numbers_frequency = pd.Series(mod_without_numbers).value_counts().sort_values(ascending=False)\n",
    "\n",
    "# printing first 20 elements to get what it looks like without polluting the output prompt\n",
    "mod_without_numbers_frequency.head(20)"
   ]
  },
  {
   "cell_type": "code",
   "execution_count": null,
   "id": "3571c7a21b17f04a",
   "metadata": {},
   "outputs": [],
   "source": []
  }
 ],
 "metadata": {
  "kernelspec": {
   "display_name": ".venv",
   "language": "python",
   "name": "python3"
  },
  "language_info": {
   "codemirror_mode": {
    "name": "ipython",
    "version": 3
   },
   "file_extension": ".py",
   "mimetype": "text/x-python",
   "name": "python",
   "nbconvert_exporter": "python",
   "pygments_lexer": "ipython3",
   "version": "3.11.3"
  }
 },
 "nbformat": 4,
 "nbformat_minor": 5
}
