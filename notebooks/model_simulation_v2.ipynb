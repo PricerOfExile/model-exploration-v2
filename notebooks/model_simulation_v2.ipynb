{
 "cells": [
  {
   "cell_type": "code",
   "execution_count": 1,
   "metadata": {},
   "outputs": [],
   "source": [
    "import pandas as pd\n",
    "import numpy as np\n",
    "import matplotlib.pyplot as plt\n",
    "from sklearn.preprocessing import StandardScaler\n",
    "from dataclasses import dataclass\n",
    "from typing import Callable\n",
    "\n",
    "import torch\n",
    "import torch.nn as nn"
   ]
  },
  {
   "cell_type": "code",
   "execution_count": 2,
   "metadata": {},
   "outputs": [
    {
     "name": "stderr",
     "output_type": "stream",
     "text": [
      "/tmp/ipykernel_473462/3680108018.py:1: DtypeWarning: Columns (1,2,3,4,5,6,7,8,9,10,11,12,13,14,15,16,17,18,19,20,21,22,23,24,25,26,27,28,29,30,31,32,33,34,35,36,37,38,39,40,41,42,43,44,45,46,47,48,49,50,51,52,53,54,55,56,57,58,59,60,61,62,63,64,65,66,67,68,69,70,71,72,73,74,75,76,77,78,79,80,81,82,83,84,85,86,87,88,89,90,91,92,93,94,95,96,97,98,99,100,101,102,103,104,105,106,107,108,109,110,111,112,113,114,115,116,117,118,119,120,121,122,123,124,125,126,127,128,129,130,131,132,133,134,135,136,137,138,139,140,141,142,143,144,145,146,147,148,149,150,151,152,153,154,155,156,157,158,159,160,161,162,163,164,165,166,167,168,169,170,171,172,173,174,175,176,177,178,179,180,181,182,183,184,185,186,187,188,189,190,191,192,193,194,195,196,197,198,199,200,201,202,203,204,205,206,207,208,209,210,211,212,213,214,215,216,217,218,219,220,221,222,223,224,225,226,227,228,229,230,231,232,233,234,235,236,237,238,239,240,241,242,243,244,245,246,247,248,249,250,251,252,253,254,255,256,257,258,259,260,261,262,263,264,265,266,267,268,269,270,271,272,273,274,275,276,277,278,279,280,281,282,283,284,285,286,287,288,289,290,291,292,293,294,295,296,297,298,299,300,301,302,303,304,305,306,307,308,309,310,311,312,313,314,315,316,317,318,319,320,321,322,323,324,325,326,327,328,329,330,331,332,333,334,335,336,337,338,339,340,341,342,343,344,345,346,347,348,349,350,351,352,353,354,355,356,357,358,359,360,361,362,363,364,365,366,367,368,369,370,371,372,373,374,375,376,377,378,379,380,381,382,383,384,385,386,387,388,389,390,391,392,393,394,395,396,397,398,399,400,401,402,403,404,405,406,407,408,409,410,411,412,413,414,415,416,417,418,419,420,421,422,423,424,425,426,427,428,429,430,431,432,433,434,435,436,437,438,439,440,441,442,443,444,445,446,447,448,449,450,451,452,453,454,455,456,457,458,459,460,461,462,463,464,465,466,467,468,469,470,471,472,473,474,475,476,477,478,479,480,481,482,483,484,485,486,487,488,489,490,491,492,493,494,495,496,497,498,499,500,501,502,503,504,505,506,507,508,509,510,511,512,513,514,515,516,517,518,519,520,521,522,523,524,525,526,527,528,529,530,531,532,533,534,535,536,537,538,539,540,541,542,543,544,545,546,547,548,549,550,551,552,553,554,555,556,557,558,559,560,561,562,563,564,565,566,567,568,569,570,571,572,573,574,575,576,577,578,579,580,581,582,583,584,585,586,587,588,589,590,591,592,593,594,595,596,597,598,599,600,601,602,603,604,605,606,607,608,609,610,611,612,613,614,615,616,617,618,619,620,621,622,623,624,625,626,627,628,629,630,631,632,633,634,635,636,637,638,639,640,641,642,643,644,645,646,647,648,649,650,651,652,653,654,655,656,657,658,659,660,661,662,663,664,665,666,667,668,669,670,671,672,673,674,675,676,677,678,679,680,681,682,683,684,685,686,687,688,689,690,691,692,693,694,695,696,697,698,699,700,701,702,703,704,705,706,707,708,709,710,711,712,713,714,715,716,717,718,719,720,721,722,723,724,725,726,727,728,729,730,731,732,733,734,735,736,737,738,739,740,741,742,743,744,745,746,747,748,749,750,751,752,753,754,755,756,757,758,759,760,761,762,763,764,765,766,767,768,769,770,771,772,773,774,775,776,777,778,779,780,781,782,783,784,785,786,787,788,789,790,791,792,793,794,795,796,797,798,799,800,801,802,803,804,805,806,807,808,809,810,811,812,813,814,815,816,817,818,819,820,821,822,823,824,825,826,827,828,829,830,831,832,833,834,835,836,837,838,839,840,841,842,843,844,845,846,847,848,849,850,851,852,853,854,855,856,857,858,859,860,861,862,863,864,865,866,867,868,869,870,871,872,873,874,875,876,877,878,879,880,881,882,883,884,885,886,887,888,889,890,891,892,893,894,895,896,897,898,899,900,901,902,903,904,905,906,907,908,909,910,911,912,913,914,915,916,917,918,919) have mixed types. Specify dtype option on import or set low_memory=False.\n",
      "  df = pd.read_csv('data_50k_no_outliers_with_cluster.csv', header=None, delimiter=\";\")\n"
     ]
    }
   ],
   "source": [
    "df = pd.read_csv('data_50k_no_outliers_with_cluster.csv', header=None, delimiter=\";\")"
   ]
  },
  {
   "cell_type": "code",
   "execution_count": 21,
   "metadata": {},
   "outputs": [],
   "source": [
    "input = df.iloc[1:, 1:914].values.astype(np.float32)\n",
    "output = df.iloc[1:, 914:].values.astype(np.float32)"
   ]
  },
  {
   "cell_type": "code",
   "execution_count": 22,
   "metadata": {},
   "outputs": [
    {
     "data": {
      "text/plain": [
       "array([[0., 0., 1., ..., 0., 0., 0.],\n",
       "       [0., 0., 1., ..., 0., 0., 0.],\n",
       "       [0., 0., 1., ..., 0., 0., 0.],\n",
       "       ...,\n",
       "       [0., 0., 1., ..., 0., 0., 0.],\n",
       "       [0., 0., 1., ..., 0., 0., 0.],\n",
       "       [0., 0., 1., ..., 0., 0., 0.]], dtype=float32)"
      ]
     },
     "execution_count": 22,
     "metadata": {},
     "output_type": "execute_result"
    }
   ],
   "source": [
    "input"
   ]
  },
  {
   "cell_type": "code",
   "execution_count": 23,
   "metadata": {},
   "outputs": [
    {
     "data": {
      "text/plain": [
       "array([[1., 0., 0., 0., 0., 0.],\n",
       "       [1., 0., 0., 0., 0., 0.],\n",
       "       [1., 0., 0., 0., 0., 0.],\n",
       "       ...,\n",
       "       [1., 0., 0., 0., 0., 0.],\n",
       "       [1., 0., 0., 0., 0., 0.],\n",
       "       [1., 0., 0., 0., 0., 0.]], dtype=float32)"
      ]
     },
     "execution_count": 23,
     "metadata": {},
     "output_type": "execute_result"
    }
   ],
   "source": [
    "output"
   ]
  },
  {
   "cell_type": "code",
   "execution_count": 24,
   "metadata": {},
   "outputs": [],
   "source": [
    "input_tensor = torch.tensor(input, dtype=torch.float32)\n",
    "output_tensor = torch.tensor(output, dtype=torch.float32)"
   ]
  },
  {
   "cell_type": "code",
   "execution_count": 25,
   "metadata": {},
   "outputs": [],
   "source": [
    "import torch.optim as optim\n",
    "from torch.utils.data import DataLoader, TensorDataset\n",
    "from sklearn.model_selection import train_test_split"
   ]
  },
  {
   "cell_type": "code",
   "execution_count": 26,
   "metadata": {},
   "outputs": [],
   "source": [
    "input_train, input_test, output_train, output_test = train_test_split(input_tensor, output_tensor, test_size=0.3, random_state=666)\n",
    "\n",
    "train_dataset = TensorDataset(input_train, output_train)\n",
    "test_dataset = TensorDataset(input_test, output_test)\n",
    "\n",
    "train_loader = DataLoader(train_dataset, batch_size=64, shuffle=True)\n",
    "test_loader = DataLoader(test_dataset, batch_size=64)"
   ]
  },
  {
   "cell_type": "code",
   "execution_count": 27,
   "metadata": {},
   "outputs": [
    {
     "ename": "NameError",
     "evalue": "name 'model' is not defined",
     "output_type": "error",
     "traceback": [
      "\u001b[0;31m---------------------------------------------------------------------------\u001b[0m",
      "\u001b[0;31mNameError\u001b[0m                                 Traceback (most recent call last)",
      "Cell \u001b[0;32mIn[27], line 2\u001b[0m\n\u001b[1;32m      1\u001b[0m loss_fn \u001b[38;5;241m=\u001b[39m nn\u001b[38;5;241m.\u001b[39mMSELoss()\n\u001b[0;32m----> 2\u001b[0m optimiser \u001b[38;5;241m=\u001b[39m optim\u001b[38;5;241m.\u001b[39mAdam(\u001b[43mmodel\u001b[49m\u001b[38;5;241m.\u001b[39mparameters(), lr\u001b[38;5;241m=\u001b[39m\u001b[38;5;241m0.001\u001b[39m)\n",
      "\u001b[0;31mNameError\u001b[0m: name 'model' is not defined"
     ]
    }
   ],
   "source": []
  },
  {
   "cell_type": "code",
   "execution_count": 28,
   "metadata": {},
   "outputs": [],
   "source": [
    "@dataclass\n",
    "class NNLayerConfig:\n",
    "    in_size: int\n",
    "    out_size: int\n",
    "    activation: Callable\n",
    "\n",
    "@dataclass\n",
    "class NNCOnfig:\n",
    "    dropout_rate: float | None\n",
    "    with_batch_norm: bool\n",
    "    with_residual: bool\n",
    "    layers: list[NNLayerConfig]\n",
    "\n",
    "def Swish():\n",
    "    '''\n",
    "    x * 1 / ( 1 + exp(-x) )\n",
    "    '''\n",
    "    return lambda x: x * torch.sigmoid(x)    \n",
    "\n",
    "\n",
    "class ConfigurableBlock(nn.Module):\n",
    "    def __init__(self, in_size: int, out_size: int, activation: Callable, with_batch_norm: bool = False, with_residual: bool = False):\n",
    "        super(ConfigurableBlock, self).__init__()\n",
    "        self.layer = nn.Linear(in_size, out_size)\n",
    "        self.activation = activation()\n",
    "        self.batch_norm = nn.BatchNorm1d(out_size)\n",
    "        self.with_batch_norm = with_batch_norm\n",
    "        self.with_residual = with_residual\n",
    "        \n",
    "        if with_residual and in_size != out_size:\n",
    "            self.projection = nn.Linear(in_size, out_size)\n",
    "        else:\n",
    "            self.projection = None\n",
    "    \n",
    "    def forward(self, x):\n",
    "        if self.with_residual:\n",
    "            residual = x\n",
    "            if self.projection:\n",
    "                residual = self.projection(residual)\n",
    "        out = self.layer(x)\n",
    "        if self.with_batch_norm:\n",
    "            out_norm = self.batch_norm(out)\n",
    "        out_act = self.activation(out) if not self.with_batch_norm else self.activation(out_norm)\n",
    "        if self.with_residual:\n",
    "            out_residual = out_act + residual\n",
    "        return out_act if not self.with_residual else out_residual\n",
    "\n",
    "class ConfigurableNN(nn.Module):\n",
    "    def __init__(self, config: NNCOnfig):\n",
    "        super(ConfigurableNN, self).__init__()\n",
    "        self.layers = nn.ModuleList()\n",
    "        for i, layer in enumerate(config.layers):\n",
    "            self.layers.append(ConfigurableBlock(layer.in_size, layer.out_size, layer.activation, config.with_batch_norm, config.with_residual))\n",
    "            if i < len(config.layers) - 1 and config.dropout_rate is not None:\n",
    "                self.layers.append(nn.Dropout(config.dropout_rate))\n",
    "    \n",
    "    def forward(self, x):\n",
    "        for layer in self.layers:\n",
    "            x = layer(x)\n",
    "        return x\n",
    "\n",
    "config = NNCOnfig(\n",
    "    dropout_rate=None,\n",
    "    with_batch_norm=True,\n",
    "    with_residual=True,\n",
    "    layers=[\n",
    "        NNLayerConfig(913, 1826, nn.LeakyReLU),\n",
    "        NNLayerConfig(1826, 913, nn.Tanh),\n",
    "        NNLayerConfig(913, 456, nn.Tanh),\n",
    "        NNLayerConfig(456, 128, nn.LeakyReLU),\n",
    "        NNLayerConfig(128, 6, nn.ReLU),\n",
    "    ]\n",
    ")\n",
    "\n",
    "model = ConfigurableNN(config)"
   ]
  },
  {
   "cell_type": "code",
   "execution_count": 33,
   "metadata": {},
   "outputs": [],
   "source": [
    "loss_fn = nn.MSELoss()\n",
    "optimiser = optim.Adam(model.parameters(), lr=0.01)"
   ]
  },
  {
   "cell_type": "code",
   "execution_count": 34,
   "metadata": {},
   "outputs": [
    {
     "name": "stdout",
     "output_type": "stream",
     "text": [
      "Epoch 1/50, Validation Loss: 112612209150694.28\n",
      "Epoch 2/50, Validation Loss: 854796474655113.5\n",
      "Epoch 3/50, Validation Loss: 36379458131333.03\n",
      "Epoch 4/50, Validation Loss: 13996341406617.152\n",
      "Epoch 5/50, Validation Loss: 8495087446007.057\n",
      "Epoch 6/50, Validation Loss: 5369147613649.048\n",
      "Epoch 7/50, Validation Loss: 3446555618773.5195\n",
      "Epoch 8/50, Validation Loss: 700993651754319.4\n",
      "Epoch 9/50, Validation Loss: 5685527792930.655\n",
      "Epoch 10/50, Validation Loss: 2414709682336.978\n",
      "Epoch 11/50, Validation Loss: 1562551506022.8472\n",
      "Epoch 12/50, Validation Loss: 7122017182447.231\n",
      "Epoch 13/50, Validation Loss: 895100355561.642\n",
      "Epoch 14/50, Validation Loss: 491507926065.18774\n",
      "Epoch 15/50, Validation Loss: 380842157355.59827\n",
      "Epoch 16/50, Validation Loss: 321276555353.4323\n",
      "Epoch 17/50, Validation Loss: 9928253195885.555\n",
      "Epoch 18/50, Validation Loss: 734200113572.3319\n",
      "Epoch 19/50, Validation Loss: 3799414243184.908\n",
      "Epoch 20/50, Validation Loss: 511063033882.8297\n",
      "Epoch 21/50, Validation Loss: 302103555756.1572\n",
      "Epoch 22/50, Validation Loss: 4.539604433864974e+16\n",
      "Epoch 23/50, Validation Loss: 8458970686906.69\n",
      "Epoch 24/50, Validation Loss: 47076280206599.83\n",
      "Epoch 25/50, Validation Loss: 1662417475306.7598\n",
      "Epoch 26/50, Validation Loss: 21641645735864.453\n",
      "Epoch 27/50, Validation Loss: 756651374708.262\n",
      "Epoch 28/50, Validation Loss: 7875613233193067.0\n",
      "Epoch 29/50, Validation Loss: 30631980396776.523\n",
      "Epoch 30/50, Validation Loss: 854192268569854.9\n",
      "Epoch 31/50, Validation Loss: 2135369390804.4019\n",
      "Epoch 32/50, Validation Loss: 965840171812.8909\n",
      "Epoch 33/50, Validation Loss: 558863930041.572\n",
      "Epoch 34/50, Validation Loss: 7539797419164.507\n",
      "Epoch 35/50, Validation Loss: 16373458967681.678\n",
      "Epoch 36/50, Validation Loss: 10201270443638.498\n",
      "Epoch 37/50, Validation Loss: 604510277471.0219\n",
      "Epoch 38/50, Validation Loss: 3795807447388.786\n",
      "Epoch 39/50, Validation Loss: 1449332094734.5327\n",
      "Epoch 40/50, Validation Loss: 702999287029.9388\n",
      "Epoch 41/50, Validation Loss: 1271225434612.821\n",
      "Epoch 42/50, Validation Loss: 659791525932.7162\n",
      "Epoch 43/50, Validation Loss: 158454547558.84717\n",
      "Epoch 44/50, Validation Loss: 61705670334.04367\n",
      "Epoch 45/50, Validation Loss: 92262265762.09607\n",
      "Epoch 46/50, Validation Loss: 27737528709.030567\n",
      "Epoch 47/50, Validation Loss: 16346475430.567686\n",
      "Epoch 48/50, Validation Loss: 10183324549.030567\n",
      "Epoch 49/50, Validation Loss: 7767045917.065502\n",
      "Epoch 50/50, Validation Loss: 5337395325.20524\n"
     ]
    }
   ],
   "source": [
    "num_epochs = 50\n",
    "torch.autograd.set_detect_anomaly(True)\n",
    "\n",
    "loss_progression = []\n",
    "\n",
    "for epoch in range(num_epochs):\n",
    "    model.train()\n",
    "    for inputs, labels in train_loader:\n",
    "        outputs = model(inputs.float())\n",
    "\n",
    "        loss = loss_fn(outputs, labels.float())\n",
    "        \n",
    "        optimiser.zero_grad()\n",
    "        loss.backward()\n",
    "        optimiser.step()\n",
    "    \n",
    "    model.eval()\n",
    "    val_loss = 0\n",
    "    with torch.no_grad():\n",
    "        for inputs, labels in test_loader:\n",
    "            outputs = model(inputs.float())\n",
    "            val_loss += loss_fn(outputs, labels.float()).item()\n",
    "    loss_progression.append(val_loss/len(test_loader))\n",
    "    print(f'Epoch {epoch+1}/{num_epochs}, Validation Loss: {val_loss/len(test_loader)}')"
   ]
  },
  {
   "cell_type": "code",
   "execution_count": 35,
   "metadata": {},
   "outputs": [
    {
     "data": {
      "text/plain": [
       "[<matplotlib.lines.Line2D at 0x790d6ffe0a50>]"
      ]
     },
     "execution_count": 35,
     "metadata": {},
     "output_type": "execute_result"
    },
    {
     "data": {
      "image/png": "[encoded data removed]",
      "text/plain": [
       "<Figure size 640x480 with 1 Axes>"
      ]
     },
     "metadata": {},
     "output_type": "display_data"
    }
   ],
   "source": [
    "# plot the val loss\n",
    "plt.plot(loss_progression)"
   ]
  },
  {
   "cell_type": "code",
   "execution_count": 36,
   "metadata": {},
   "outputs": [],
   "source": [
    "# save the model\n",
    "torch.save(model.state_dict(), 'model.pth')\n"
   ]
  },
  {
   "cell_type": "code",
   "execution_count": null,
   "metadata": {},
   "outputs": [],
   "source": []
  }
 ],
 "metadata": {
  "kernelspec": {
   "display_name": ".venv",
   "language": "python",
   "name": "python3"
  },
  "language_info": {
   "codemirror_mode": {
    "name": "ipython",
    "version": 3
   },
   "file_extension": ".py",
   "mimetype": "text/x-python",
   "name": "python",
   "nbconvert_exporter": "python",
   "pygments_lexer": "ipython3",
   "version": "3.11.3"
  }
 },
 "nbformat": 4,
 "nbformat_minor": 2
}
